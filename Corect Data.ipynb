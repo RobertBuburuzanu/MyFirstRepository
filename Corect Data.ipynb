{
 "cells": [
  {
   "cell_type": "code",
   "execution_count": 12,
   "id": "9fc18b30",
   "metadata": {},
   "outputs": [
    {
     "data": {
      "text/html": [
       "<div>\n",
       "<style scoped>\n",
       "    .dataframe tbody tr th:only-of-type {\n",
       "        vertical-align: middle;\n",
       "    }\n",
       "\n",
       "    .dataframe tbody tr th {\n",
       "        vertical-align: top;\n",
       "    }\n",
       "\n",
       "    .dataframe thead th {\n",
       "        text-align: right;\n",
       "    }\n",
       "</style>\n",
       "<table border=\"1\" class=\"dataframe\">\n",
       "  <thead>\n",
       "    <tr style=\"text-align: right;\">\n",
       "      <th></th>\n",
       "      <th>Name</th>\n",
       "      <th>Batch</th>\n",
       "      <th>RollNo</th>\n",
       "      <th>Adress</th>\n",
       "      <th>Phone No.</th>\n",
       "      <th>Email</th>\n",
       "    </tr>\n",
       "  </thead>\n",
       "  <tbody>\n",
       "    <tr>\n",
       "      <th>0</th>\n",
       "      <td>Gicu</td>\n",
       "      <td>pythin01</td>\n",
       "      <td>1</td>\n",
       "      <td>Ia;i</td>\n",
       "      <td>7412</td>\n",
       "      <td>gicu_pyton</td>\n",
       "    </tr>\n",
       "    <tr>\n",
       "      <th>1</th>\n",
       "      <td>Cretu</td>\n",
       "      <td>java002</td>\n",
       "      <td>23</td>\n",
       "      <td>vaslui</td>\n",
       "      <td>723</td>\n",
       "      <td>cretu_java</td>\n",
       "    </tr>\n",
       "    <tr>\n",
       "      <th>2</th>\n",
       "      <td>bibi</td>\n",
       "      <td>python045</td>\n",
       "      <td>234</td>\n",
       "      <td>cluj</td>\n",
       "      <td>7422</td>\n",
       "      <td>bibi_python</td>\n",
       "    </tr>\n",
       "  </tbody>\n",
       "</table>\n",
       "</div>"
      ],
      "text/plain": [
       "    Name      Batch  RollNo  Adress  Phone No.        Email\n",
       "0   Gicu   pythin01       1    Ia;i       7412   gicu_pyton\n",
       "1  Cretu    java002      23  vaslui        723   cretu_java\n",
       "2   bibi  python045     234    cluj       7422  bibi_python"
      ]
     },
     "execution_count": 12,
     "metadata": {},
     "output_type": "execute_result"
    }
   ],
   "source": [
    "import pandas as p\n",
    "\n",
    "p.read_excel(r\"C:\\Users\\rober\\Desktop\\Data science course\\Data lesson 1.xlsx\")"
   ]
  },
  {
   "cell_type": "code",
   "execution_count": 11,
   "id": "42674507",
   "metadata": {},
   "outputs": [
    {
     "data": {
      "text/html": [
       "<div>\n",
       "<style scoped>\n",
       "    .dataframe tbody tr th:only-of-type {\n",
       "        vertical-align: middle;\n",
       "    }\n",
       "\n",
       "    .dataframe tbody tr th {\n",
       "        vertical-align: top;\n",
       "    }\n",
       "\n",
       "    .dataframe thead th {\n",
       "        text-align: right;\n",
       "    }\n",
       "</style>\n",
       "<table border=\"1\" class=\"dataframe\">\n",
       "  <thead>\n",
       "    <tr style=\"text-align: right;\">\n",
       "      <th></th>\n",
       "      <th>Name</th>\n",
       "      <th>Batch</th>\n",
       "      <th>RollNo</th>\n",
       "      <th>Adress</th>\n",
       "      <th>Phone No.</th>\n",
       "      <th>Email</th>\n",
       "    </tr>\n",
       "  </thead>\n",
       "  <tbody>\n",
       "    <tr>\n",
       "      <th>0</th>\n",
       "      <td>Gicu</td>\n",
       "      <td>pythin01</td>\n",
       "      <td>1</td>\n",
       "      <td>Ia;i</td>\n",
       "      <td>7412</td>\n",
       "      <td>gicu_pyton</td>\n",
       "    </tr>\n",
       "    <tr>\n",
       "      <th>1</th>\n",
       "      <td>Cretu</td>\n",
       "      <td>java002</td>\n",
       "      <td>23</td>\n",
       "      <td>vaslui</td>\n",
       "      <td>723</td>\n",
       "      <td>cretu_java</td>\n",
       "    </tr>\n",
       "    <tr>\n",
       "      <th>2</th>\n",
       "      <td>bibi</td>\n",
       "      <td>python045</td>\n",
       "      <td>234</td>\n",
       "      <td>cluj</td>\n",
       "      <td>7422</td>\n",
       "      <td>bibi_python</td>\n",
       "    </tr>\n",
       "    <tr>\n",
       "      <th>3</th>\n",
       "      <td>gigi</td>\n",
       "      <td>java004</td>\n",
       "      <td>2342</td>\n",
       "      <td>vaslui</td>\n",
       "      <td>98283</td>\n",
       "      <td>gigi_</td>\n",
       "    </tr>\n",
       "    <tr>\n",
       "      <th>4</th>\n",
       "      <td>nicu</td>\n",
       "      <td>python0234</td>\n",
       "      <td>74123</td>\n",
       "      <td>belesti</td>\n",
       "      <td>9422</td>\n",
       "      <td>nicu_</td>\n",
       "    </tr>\n",
       "  </tbody>\n",
       "</table>\n",
       "</div>"
      ],
      "text/plain": [
       "    Name       Batch  RollNo   Adress  Phone No.        Email\n",
       "0   Gicu    pythin01       1     Ia;i       7412   gicu_pyton\n",
       "1  Cretu     java002      23   vaslui        723   cretu_java\n",
       "2   bibi   python045     234     cluj       7422  bibi_python\n",
       "3   gigi     java004    2342   vaslui      98283        gigi_\n",
       "4   nicu  python0234   74123  belesti       9422        nicu_"
      ]
     },
     "execution_count": 11,
     "metadata": {},
     "output_type": "execute_result"
    }
   ],
   "source": [
    "p.read_csv(r\"C:\\Users\\rober\\Desktop\\Data science course\\Data lesson 2.csv\")"
   ]
  },
  {
   "cell_type": "code",
   "execution_count": 20,
   "id": "6464f746",
   "metadata": {},
   "outputs": [
    {
     "data": {
      "text/html": [
       "<div>\n",
       "<style scoped>\n",
       "    .dataframe tbody tr th:only-of-type {\n",
       "        vertical-align: middle;\n",
       "    }\n",
       "\n",
       "    .dataframe tbody tr th {\n",
       "        vertical-align: top;\n",
       "    }\n",
       "\n",
       "    .dataframe thead th {\n",
       "        text-align: right;\n",
       "    }\n",
       "</style>\n",
       "<table border=\"1\" class=\"dataframe\">\n",
       "  <thead>\n",
       "    <tr style=\"text-align: right;\">\n",
       "      <th></th>\n",
       "      <th>Name</th>\n",
       "      <th>PhoneNumber BatchNumber</th>\n",
       "    </tr>\n",
       "  </thead>\n",
       "  <tbody>\n",
       "    <tr>\n",
       "      <th>Allen</th>\n",
       "      <td>824927492</td>\n",
       "      <td>pythin-09</td>\n",
       "    </tr>\n",
       "    <tr>\n",
       "      <th>bob</th>\n",
       "      <td>232352452</td>\n",
       "      <td>python-06</td>\n",
       "    </tr>\n",
       "    <tr>\n",
       "      <th>agela</th>\n",
       "      <td>20324234</td>\n",
       "      <td>python-02</td>\n",
       "    </tr>\n",
       "  </tbody>\n",
       "</table>\n",
       "</div>"
      ],
      "text/plain": [
       "           Name  PhoneNumber BatchNumber\n",
       "Allen  824927492               pythin-09\n",
       "bob    232352452               python-06\n",
       "agela   20324234               python-02"
      ]
     },
     "execution_count": 20,
     "metadata": {},
     "output_type": "execute_result"
    }
   ],
   "source": [
    "p.read_csv(r\"C:\\Users\\rober\\Desktop\\Data science course\\Data lesson 3.tsv\",sep='\\t')"
   ]
  },
  {
   "cell_type": "code",
   "execution_count": null,
   "id": "ec22ce58",
   "metadata": {},
   "outputs": [],
   "source": []
  }
 ],
 "metadata": {
  "kernelspec": {
   "display_name": "Python 3 (ipykernel)",
   "language": "python",
   "name": "python3"
  },
  "language_info": {
   "codemirror_mode": {
    "name": "ipython",
    "version": 3
   },
   "file_extension": ".py",
   "mimetype": "text/x-python",
   "name": "python",
   "nbconvert_exporter": "python",
   "pygments_lexer": "ipython3",
   "version": "3.9.12"
  }
 },
 "nbformat": 4,
 "nbformat_minor": 5
}
